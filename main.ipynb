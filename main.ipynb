{
 "cells": [
  {
   "cell_type": "code",
   "execution_count": 7,
   "metadata": {},
   "outputs": [
    {
     "name": "stdout",
     "output_type": "stream",
     "text": [
      "Downloading data for 2018 1-Year person survey for FL...\n"
     ]
    }
   ],
   "source": [
    "import folktables\n",
    "from folktables import ACSDataSource\n",
    "import numpy as np\n",
    "#(Age) must be greater than 16 and less than 90, and (Person weight) must be greater than or equal to 1\n",
    "def employment_filter(data):\n",
    "    \"\"\"\n",
    "    Filters for the employment prediction task\n",
    "    \"\"\"\n",
    "    df = data\n",
    "    df = df[df['AGEP'] > 16]\n",
    "    df = df[df['AGEP'] < 90]\n",
    "    df = df[df['PWGTP'] >= 1]\n",
    "    return df\n",
    "ACSEmployment = folktables.BasicProblem(\n",
    "    features=[\n",
    "       'AGEP', #age; for range of values of features please check Appendix B.4 of\n",
    "           #Retiring Adult: New Datasets for Fair Machine Learning NeurIPS 2021 paper\n",
    "       'SCHL', #educational attainment\n",
    "       'MAR', #marital status\n",
    "       'RELP', #relationship\n",
    "       'DIS', #disability recode\n",
    "       'ESP', #employment status of parents\n",
    "       'CIT', #citizenship status\n",
    "       'MIG', #mobility status (lived here 1 year ago)\n",
    "       'MIL', #military service\n",
    "       'ANC', #ancestry recode\n",
    "       'NATIVITY', #nativity\n",
    "       'DEAR', #hearing difficulty\n",
    "       'DEYE', #vision difficulty\n",
    "       'DREM', #cognitive difficulty\n",
    "       'SEX', #sex\n",
    "       'RAC1P', #recoded detailed race code\n",
    "       'GCL', #grandparents living with grandchildren\n",
    "    ],\n",
    "    target='ESR', #employment status recode\n",
    "    target_transform=lambda x: x == 1,\n",
    "    group='DIS',\n",
    "    preprocess=employment_filter,\n",
    "    postprocess=lambda x: np.nan_to_num(x, -1),\n",
    ")\n",
    "data_source = ACSDataSource(survey_year='2018', horizon='1-Year', survey='person')\n",
    "acs_data = data_source.get_data(states=[\"FL\"], download=True) #data for Florida state\n",
    "features, label, group = ACSEmployment.df_to_numpy(acs_data)"
   ]
  },
  {
   "cell_type": "code",
   "execution_count": null,
   "metadata": {},
   "outputs": [],
   "source": []
  }
 ],
 "metadata": {
  "kernelspec": {
   "display_name": "my_env",
   "language": "python",
   "name": "python3"
  },
  "language_info": {
   "codemirror_mode": {
    "name": "ipython",
    "version": 3
   },
   "file_extension": ".py",
   "mimetype": "text/x-python",
   "name": "python",
   "nbconvert_exporter": "python",
   "pygments_lexer": "ipython3",
   "version": "3.11.6"
  }
 },
 "nbformat": 4,
 "nbformat_minor": 2
}
